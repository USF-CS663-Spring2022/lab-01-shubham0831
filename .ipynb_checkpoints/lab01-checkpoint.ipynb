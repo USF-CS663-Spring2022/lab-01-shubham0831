{
 "cells": [
  {
   "cell_type": "code",
   "execution_count": 1,
   "id": "e4685e5b",
   "metadata": {},
   "outputs": [],
   "source": [
    "import pandas as pd "
   ]
  },
  {
   "cell_type": "code",
   "execution_count": 2,
   "id": "2a3c3f7e",
   "metadata": {},
   "outputs": [
    {
     "data": {
      "text/plain": [
       "<bound method NDFrame.head of        password  length  num_chars  num_digits  num_upper  num_lower  \\\n",
       "0        123456       6          0           6          0          0   \n",
       "1      password       8          8           0          0          8   \n",
       "2      12345678       8          0           8          0          0   \n",
       "3        qwerty       6          6           0          0          6   \n",
       "4     123456789       9          0           9          0          0   \n",
       "...         ...     ...        ...         ...        ...        ...   \n",
       "9995       caca       4          4           0          0          4   \n",
       "9996     c2h5oh       6          4           2          0          4   \n",
       "9997   bubbles1       8          7           1          0          7   \n",
       "9998      brook       5          5           0          0          5   \n",
       "9999      brady       5          5           0          0          5   \n",
       "\n",
       "      num_special  num_vowels  num_syllables  \n",
       "0               0           0              1  \n",
       "1               0           2              2  \n",
       "2               0           0              1  \n",
       "3               0           1              3  \n",
       "4               0           0              1  \n",
       "...           ...         ...            ...  \n",
       "9995            0           2              2  \n",
       "9996            0           1              1  \n",
       "9997            0           2              2  \n",
       "9998            0           2              1  \n",
       "9999            0           1              1  \n",
       "\n",
       "[10000 rows x 9 columns]>"
      ]
     },
     "execution_count": 2,
     "metadata": {},
     "output_type": "execute_result"
    }
   ],
   "source": [
    "df = pd.read_csv(r\"./common_passwords.csv\")\n",
    "df.head"
   ]
  },
  {
   "cell_type": "markdown",
   "id": "a8e41e7c",
   "metadata": {},
   "source": [
    "## df.describe()\n",
    "  This method gives us basic information about the dataset, such as :\n",
    "1. We have 10,000 rows for each column\n",
    "2. The average length of a password is 6.65, with a standard deviation of 1.37\n",
    "3. The average password has 5.03 characters in it and 1.61 digits in it, with a standard deviation of 2.80 and 2.97 respectively\n",
    "4. The shortest password in this dataset has a length of 3, and the maximum length of a password in this dataset is 16\n",
    "5. It shows percentile for each column as well, so for example the length 6 is the 25th percentile. This means that 25% of the passwords have a length of less than 6, and so on for the 50th and 75th percentile.\n",
    "        \n",
    "The points mentioned above are valid for each column in the dataset."
   ]
  },
  {
   "cell_type": "code",
   "execution_count": 3,
   "id": "dd62b633",
   "metadata": {},
   "outputs": [
    {
     "data": {
      "text/html": [
       "<div>\n",
       "<style scoped>\n",
       "    .dataframe tbody tr th:only-of-type {\n",
       "        vertical-align: middle;\n",
       "    }\n",
       "\n",
       "    .dataframe tbody tr th {\n",
       "        vertical-align: top;\n",
       "    }\n",
       "\n",
       "    .dataframe thead th {\n",
       "        text-align: right;\n",
       "    }\n",
       "</style>\n",
       "<table border=\"1\" class=\"dataframe\">\n",
       "  <thead>\n",
       "    <tr style=\"text-align: right;\">\n",
       "      <th></th>\n",
       "      <th>length</th>\n",
       "      <th>num_chars</th>\n",
       "      <th>num_digits</th>\n",
       "      <th>num_upper</th>\n",
       "      <th>num_lower</th>\n",
       "      <th>num_special</th>\n",
       "      <th>num_vowels</th>\n",
       "      <th>num_syllables</th>\n",
       "    </tr>\n",
       "  </thead>\n",
       "  <tbody>\n",
       "    <tr>\n",
       "      <th>count</th>\n",
       "      <td>10000.000000</td>\n",
       "      <td>10000.000000</td>\n",
       "      <td>10000.000000</td>\n",
       "      <td>10000.000000</td>\n",
       "      <td>10000.000000</td>\n",
       "      <td>10000.000000</td>\n",
       "      <td>10000.000000</td>\n",
       "      <td>10000.000000</td>\n",
       "    </tr>\n",
       "    <tr>\n",
       "      <th>mean</th>\n",
       "      <td>6.651300</td>\n",
       "      <td>5.030300</td>\n",
       "      <td>1.617600</td>\n",
       "      <td>0.025300</td>\n",
       "      <td>5.005000</td>\n",
       "      <td>0.003400</td>\n",
       "      <td>1.805900</td>\n",
       "      <td>1.606600</td>\n",
       "    </tr>\n",
       "    <tr>\n",
       "      <th>std</th>\n",
       "      <td>1.370947</td>\n",
       "      <td>2.804098</td>\n",
       "      <td>2.971911</td>\n",
       "      <td>0.322909</td>\n",
       "      <td>2.809727</td>\n",
       "      <td>0.119958</td>\n",
       "      <td>1.242409</td>\n",
       "      <td>0.681383</td>\n",
       "    </tr>\n",
       "    <tr>\n",
       "      <th>min</th>\n",
       "      <td>3.000000</td>\n",
       "      <td>0.000000</td>\n",
       "      <td>0.000000</td>\n",
       "      <td>0.000000</td>\n",
       "      <td>0.000000</td>\n",
       "      <td>0.000000</td>\n",
       "      <td>0.000000</td>\n",
       "      <td>0.000000</td>\n",
       "    </tr>\n",
       "    <tr>\n",
       "      <th>25%</th>\n",
       "      <td>6.000000</td>\n",
       "      <td>4.000000</td>\n",
       "      <td>0.000000</td>\n",
       "      <td>0.000000</td>\n",
       "      <td>4.000000</td>\n",
       "      <td>0.000000</td>\n",
       "      <td>1.000000</td>\n",
       "      <td>1.000000</td>\n",
       "    </tr>\n",
       "    <tr>\n",
       "      <th>50%</th>\n",
       "      <td>7.000000</td>\n",
       "      <td>6.000000</td>\n",
       "      <td>0.000000</td>\n",
       "      <td>0.000000</td>\n",
       "      <td>6.000000</td>\n",
       "      <td>0.000000</td>\n",
       "      <td>2.000000</td>\n",
       "      <td>2.000000</td>\n",
       "    </tr>\n",
       "    <tr>\n",
       "      <th>75%</th>\n",
       "      <td>8.000000</td>\n",
       "      <td>7.000000</td>\n",
       "      <td>1.000000</td>\n",
       "      <td>0.000000</td>\n",
       "      <td>7.000000</td>\n",
       "      <td>0.000000</td>\n",
       "      <td>3.000000</td>\n",
       "      <td>2.000000</td>\n",
       "    </tr>\n",
       "    <tr>\n",
       "      <th>max</th>\n",
       "      <td>16.000000</td>\n",
       "      <td>13.000000</td>\n",
       "      <td>12.000000</td>\n",
       "      <td>8.000000</td>\n",
       "      <td>13.000000</td>\n",
       "      <td>6.000000</td>\n",
       "      <td>10.000000</td>\n",
       "      <td>6.000000</td>\n",
       "    </tr>\n",
       "  </tbody>\n",
       "</table>\n",
       "</div>"
      ],
      "text/plain": [
       "             length     num_chars    num_digits     num_upper     num_lower  \\\n",
       "count  10000.000000  10000.000000  10000.000000  10000.000000  10000.000000   \n",
       "mean       6.651300      5.030300      1.617600      0.025300      5.005000   \n",
       "std        1.370947      2.804098      2.971911      0.322909      2.809727   \n",
       "min        3.000000      0.000000      0.000000      0.000000      0.000000   \n",
       "25%        6.000000      4.000000      0.000000      0.000000      4.000000   \n",
       "50%        7.000000      6.000000      0.000000      0.000000      6.000000   \n",
       "75%        8.000000      7.000000      1.000000      0.000000      7.000000   \n",
       "max       16.000000     13.000000     12.000000      8.000000     13.000000   \n",
       "\n",
       "        num_special    num_vowels  num_syllables  \n",
       "count  10000.000000  10000.000000   10000.000000  \n",
       "mean       0.003400      1.805900       1.606600  \n",
       "std        0.119958      1.242409       0.681383  \n",
       "min        0.000000      0.000000       0.000000  \n",
       "25%        0.000000      1.000000       1.000000  \n",
       "50%        0.000000      2.000000       2.000000  \n",
       "75%        0.000000      3.000000       2.000000  \n",
       "max        6.000000     10.000000       6.000000  "
      ]
     },
     "execution_count": 3,
     "metadata": {},
     "output_type": "execute_result"
    }
   ],
   "source": [
    "df.describe()"
   ]
  },
  {
   "cell_type": "markdown",
   "id": "a41c8793",
   "metadata": {},
   "source": [
    "## df.info()\n",
    "This method shows the basic info for each column in the dataset. The information includes the name of the column, how many cells in each column are empty and the data type of each column.\n",
    "\n",
    "For this dataset, we have 8 columns, none of which have an empty cell in it. Every column except for the password column is of type int64.\n",
    "The total number of columns is 9, and the memory usage is 703.2KB"
   ]
  },
  {
   "cell_type": "code",
   "execution_count": 4,
   "id": "13012b12",
   "metadata": {},
   "outputs": [
    {
     "name": "stdout",
     "output_type": "stream",
     "text": [
      "<class 'pandas.core.frame.DataFrame'>\n",
      "RangeIndex: 10000 entries, 0 to 9999\n",
      "Data columns (total 9 columns):\n",
      " #   Column         Non-Null Count  Dtype \n",
      "---  ------         --------------  ----- \n",
      " 0   password       10000 non-null  object\n",
      " 1   length         10000 non-null  int64 \n",
      " 2   num_chars      10000 non-null  int64 \n",
      " 3   num_digits     10000 non-null  int64 \n",
      " 4   num_upper      10000 non-null  int64 \n",
      " 5   num_lower      10000 non-null  int64 \n",
      " 6   num_special    10000 non-null  int64 \n",
      " 7   num_vowels     10000 non-null  int64 \n",
      " 8   num_syllables  10000 non-null  int64 \n",
      "dtypes: int64(8), object(1)\n",
      "memory usage: 703.2+ KB\n"
     ]
    }
   ],
   "source": [
    "df.info()"
   ]
  },
  {
   "cell_type": "code",
   "execution_count": 5,
   "id": "1b8978be",
   "metadata": {},
   "outputs": [
    {
     "data": {
      "text/plain": [
       "<AxesSubplot:>"
      ]
     },
     "execution_count": 5,
     "metadata": {},
     "output_type": "execute_result"
    },
    {
     "data": {
      "image/png": "[encoded data removed]",
      "text/plain": [
       "<Figure size 432x288 with 1 Axes>"
      ]
     },
     "metadata": {
      "needs_background": "light"
     },
     "output_type": "display_data"
    }
   ],
   "source": [
    "df['length'].hist(density = True, color = \"skyblue\", ec=\"black\")"
   ]
  },
  {
   "cell_type": "code",
   "execution_count": 6,
   "id": "8b7c58fd",
   "metadata": {
    "scrolled": true
   },
   "outputs": [
    {
     "data": {
      "text/html": [
       "<div>\n",
       "<style scoped>\n",
       "    .dataframe tbody tr th:only-of-type {\n",
       "        vertical-align: middle;\n",
       "    }\n",
       "\n",
       "    .dataframe tbody tr th {\n",
       "        vertical-align: top;\n",
       "    }\n",
       "\n",
       "    .dataframe thead th {\n",
       "        text-align: right;\n",
       "    }\n",
       "</style>\n",
       "<table border=\"1\" class=\"dataframe\">\n",
       "  <thead>\n",
       "    <tr style=\"text-align: right;\">\n",
       "      <th></th>\n",
       "      <th>length</th>\n",
       "      <th>num_chars</th>\n",
       "      <th>num_digits</th>\n",
       "      <th>num_upper</th>\n",
       "      <th>num_lower</th>\n",
       "      <th>num_special</th>\n",
       "      <th>num_vowels</th>\n",
       "      <th>num_syllables</th>\n",
       "    </tr>\n",
       "  </thead>\n",
       "  <tbody>\n",
       "    <tr>\n",
       "      <th>length</th>\n",
       "      <td>1.000000</td>\n",
       "      <td>0.116878</td>\n",
       "      <td>0.351297</td>\n",
       "      <td>0.019704</td>\n",
       "      <td>0.114379</td>\n",
       "      <td>-0.006777</td>\n",
       "      <td>0.057904</td>\n",
       "      <td>0.234272</td>\n",
       "    </tr>\n",
       "    <tr>\n",
       "      <th>num_chars</th>\n",
       "      <td>0.116878</td>\n",
       "      <td>1.000000</td>\n",
       "      <td>-0.887925</td>\n",
       "      <td>0.040131</td>\n",
       "      <td>0.993385</td>\n",
       "      <td>-0.041931</td>\n",
       "      <td>0.803500</td>\n",
       "      <td>0.590230</td>\n",
       "    </tr>\n",
       "    <tr>\n",
       "      <th>num_digits</th>\n",
       "      <td>0.351297</td>\n",
       "      <td>-0.887925</td>\n",
       "      <td>1.000000</td>\n",
       "      <td>-0.028685</td>\n",
       "      <td>-0.882850</td>\n",
       "      <td>-0.003927</td>\n",
       "      <td>-0.729944</td>\n",
       "      <td>-0.446826</td>\n",
       "    </tr>\n",
       "    <tr>\n",
       "      <th>num_upper</th>\n",
       "      <td>0.019704</td>\n",
       "      <td>0.040131</td>\n",
       "      <td>-0.028685</td>\n",
       "      <td>1.000000</td>\n",
       "      <td>-0.074875</td>\n",
       "      <td>-0.002221</td>\n",
       "      <td>-0.055813</td>\n",
       "      <td>0.012514</td>\n",
       "    </tr>\n",
       "    <tr>\n",
       "      <th>num_lower</th>\n",
       "      <td>0.114379</td>\n",
       "      <td>0.993385</td>\n",
       "      <td>-0.882850</td>\n",
       "      <td>-0.074875</td>\n",
       "      <td>1.000000</td>\n",
       "      <td>-0.041592</td>\n",
       "      <td>0.808304</td>\n",
       "      <td>0.587610</td>\n",
       "    </tr>\n",
       "    <tr>\n",
       "      <th>num_special</th>\n",
       "      <td>-0.006777</td>\n",
       "      <td>-0.041931</td>\n",
       "      <td>-0.003927</td>\n",
       "      <td>-0.002221</td>\n",
       "      <td>-0.041592</td>\n",
       "      <td>1.000000</td>\n",
       "      <td>-0.036505</td>\n",
       "      <td>-0.049706</td>\n",
       "    </tr>\n",
       "    <tr>\n",
       "      <th>num_vowels</th>\n",
       "      <td>0.057904</td>\n",
       "      <td>0.803500</td>\n",
       "      <td>-0.729944</td>\n",
       "      <td>-0.055813</td>\n",
       "      <td>0.808304</td>\n",
       "      <td>-0.036505</td>\n",
       "      <td>1.000000</td>\n",
       "      <td>0.506504</td>\n",
       "    </tr>\n",
       "    <tr>\n",
       "      <th>num_syllables</th>\n",
       "      <td>0.234272</td>\n",
       "      <td>0.590230</td>\n",
       "      <td>-0.446826</td>\n",
       "      <td>0.012514</td>\n",
       "      <td>0.587610</td>\n",
       "      <td>-0.049706</td>\n",
       "      <td>0.506504</td>\n",
       "      <td>1.000000</td>\n",
       "    </tr>\n",
       "  </tbody>\n",
       "</table>\n",
       "</div>"
      ],
      "text/plain": [
       "                 length  num_chars  num_digits  num_upper  num_lower  \\\n",
       "length         1.000000   0.116878    0.351297   0.019704   0.114379   \n",
       "num_chars      0.116878   1.000000   -0.887925   0.040131   0.993385   \n",
       "num_digits     0.351297  -0.887925    1.000000  -0.028685  -0.882850   \n",
       "num_upper      0.019704   0.040131   -0.028685   1.000000  -0.074875   \n",
       "num_lower      0.114379   0.993385   -0.882850  -0.074875   1.000000   \n",
       "num_special   -0.006777  -0.041931   -0.003927  -0.002221  -0.041592   \n",
       "num_vowels     0.057904   0.803500   -0.729944  -0.055813   0.808304   \n",
       "num_syllables  0.234272   0.590230   -0.446826   0.012514   0.587610   \n",
       "\n",
       "               num_special  num_vowels  num_syllables  \n",
       "length           -0.006777    0.057904       0.234272  \n",
       "num_chars        -0.041931    0.803500       0.590230  \n",
       "num_digits       -0.003927   -0.729944      -0.446826  \n",
       "num_upper        -0.002221   -0.055813       0.012514  \n",
       "num_lower        -0.041592    0.808304       0.587610  \n",
       "num_special       1.000000   -0.036505      -0.049706  \n",
       "num_vowels       -0.036505    1.000000       0.506504  \n",
       "num_syllables    -0.049706    0.506504       1.000000  "
      ]
     },
     "execution_count": 6,
     "metadata": {},
     "output_type": "execute_result"
    }
   ],
   "source": [
    "correlation_matrix = df.corr()\n",
    "correlation_matrix"
   ]
  },
  {
   "cell_type": "code",
   "execution_count": 7,
   "id": "575c8c23",
   "metadata": {},
   "outputs": [],
   "source": [
    "import seaborn as sb"
   ]
  },
  {
   "cell_type": "markdown",
   "id": "bc837f62",
   "metadata": {},
   "source": [
    "## HeatMap\n",
    "\n",
    "Insights from the heatmap:\n",
    "\n",
    "1. The correlation between the number of characters and the number of digits is -0.89. This tells us that they are almost inverse. Since the dataset consists of weaker passwords, it makes sense, that either a password is just some numbers or just characters.\n",
    "2. As we can see, there is a very high correlation between the number of lower case characters and number of characters in total. This is because the dataset consists of weaker passwords, and weaker passwords tend to be in lowercase in general.\n",
    "3. The number of special characters has a negative correlation with every with every other column, most of which are close to 0. This again proves that the passwords are quite weak, and most passwords do not have special characters.\n",
    "4. The longer passwords tend to have some digits in them as we can see from the map.\n",
    "5. Similarly, longer passwords tend to have more syllables in them."
   ]
  },
  {
   "cell_type": "code",
   "execution_count": 8,
   "id": "cd41526a",
   "metadata": {},
   "outputs": [
    {
     "data": {
      "text/plain": [
       "<AxesSubplot:>"
      ]
     },
     "execution_count": 8,
     "metadata": {},
     "output_type": "execute_result"
    },
    {
     "data": {
      "image/png": "[encoded data removed]",
      "text/plain": [
       "<Figure size 432x288 with 2 Axes>"
      ]
     },
     "metadata": {
      "needs_background": "light"
     },
     "output_type": "display_data"
    }
   ],
   "source": [
    "sb.heatmap(correlation_matrix, annot=True)"
   ]
  },
  {
   "cell_type": "code",
   "execution_count": 9,
   "id": "a232d37a",
   "metadata": {},
   "outputs": [],
   "source": [
    "import matplotlib.pyplot as plt"
   ]
  },
  {
   "cell_type": "code",
   "execution_count": 10,
   "id": "01f8db2d",
   "metadata": {},
   "outputs": [
    {
     "data": {
      "text/plain": [
       "Text(0, 0.5, 'Total Characters')"
      ]
     },
     "execution_count": 10,
     "metadata": {},
     "output_type": "execute_result"
    },
    {
     "data": {
      "image/png": "[encoded data removed]",
      "text/plain": [
       "<Figure size 432x288 with 1 Axes>"
      ]
     },
     "metadata": {
      "needs_background": "light"
     },
     "output_type": "display_data"
    }
   ],
   "source": [
    "plt.scatter(x = df['num_lower'], y = df['num_chars'], marker = 'x', color = 'red')\n",
    "plt.title('Relation between number of total characters and number of lowercase characters')\n",
    "plt.xlabel(\"Lowercase Characters\")\n",
    "plt.ylabel(\"Total Characters\")"
   ]
  },
  {
   "cell_type": "code",
   "execution_count": 11,
   "id": "8cf75b66",
   "metadata": {},
   "outputs": [
    {
     "data": {
      "text/plain": [
       "Text(0.5, 1.0, 'Regression line b/w num chars and num_lower')"
      ]
     },
     "execution_count": 11,
     "metadata": {},
     "output_type": "execute_result"
    },
    {
     "data": {
      "image/png": "[encoded data removed]",
      "text/plain": [
       "<Figure size 432x288 with 1 Axes>"
      ]
     },
     "metadata": {
      "needs_background": "light"
     },
     "output_type": "display_data"
    }
   ],
   "source": [
    "sb.regplot(x = df['num_lower'], y = df['num_chars'], ci = None).set_title(\"Regression line b/w num chars and num_lower\")"
   ]
  },
  {
   "cell_type": "code",
   "execution_count": 12,
   "id": "abd46d7b",
   "metadata": {},
   "outputs": [
    {
     "data": {
      "text/plain": [
       "Text(0, 0.5, 'Number of Digits')"
      ]
     },
     "execution_count": 12,
     "metadata": {},
     "output_type": "execute_result"
    },
    {
     "data": {
      "image/png": "[encoded data removed]",
      "text/plain": [
       "<Figure size 432x288 with 1 Axes>"
      ]
     },
     "metadata": {
      "needs_background": "light"
     },
     "output_type": "display_data"
    }
   ],
   "source": [
    "plt.scatter(x = df['length'], y = df['num_digits'], marker = 'x', color = 'red')\n",
    "plt.title('Relation between length of a password and number of digits in it')\n",
    "plt.xlabel(\"Password Length\")\n",
    "plt.ylabel(\"Number of Digits\")"
   ]
  },
  {
   "cell_type": "code",
   "execution_count": 14,
   "id": "3e71c5b7",
   "metadata": {},
   "outputs": [
    {
     "data": {
      "text/plain": [
       "<AxesSubplot:xlabel='length'>"
      ]
     },
     "execution_count": 14,
     "metadata": {},
     "output_type": "execute_result"
    },
    {
     "data": {
      "image/png": "[encoded data removed]",
      "text/plain": [
       "<Figure size 432x288 with 1 Axes>"
      ]
     },
     "metadata": {
      "needs_background": "light"
     },
     "output_type": "display_data"
    }
   ],
   "source": [
    "sample = df.sample(n=10)\n",
    "sample.plot(x = 'length', y = 'num_digits', kind = 'bar')"
   ]
  },
  {
   "cell_type": "code",
   "execution_count": 16,
   "id": "fa44e6b9",
   "metadata": {},
   "outputs": [
    {
     "data": {
      "text/plain": [
       "<AxesSubplot:xlabel='length'>"
      ]
     },
     "execution_count": 16,
     "metadata": {},
     "output_type": "execute_result"
    },
    {
     "data": {
      "image/png": "[encoded data removed]",
      "text/plain": [
       "<Figure size 432x288 with 1 Axes>"
      ]
     },
     "metadata": {
      "needs_background": "light"
     },
     "output_type": "display_data"
    }
   ],
   "source": [
    "sample = df.sample(n=10)\n",
    "sample.plot(x = 'length', y = 'num_digits', kind = 'bar')"
   ]
  },
  {
   "cell_type": "code",
   "execution_count": 22,
   "id": "7f8505c8",
   "metadata": {},
   "outputs": [
    {
     "data": {
      "text/plain": [
       "<AxesSubplot:xlabel='length'>"
      ]
     },
     "execution_count": 22,
     "metadata": {},
     "output_type": "execute_result"
    },
    {
     "data": {
      "image/png": "[encoded data removed]",
      "text/plain": [
       "<Figure size 432x288 with 1 Axes>"
      ]
     },
     "metadata": {
      "needs_background": "light"
     },
     "output_type": "display_data"
    }
   ],
   "source": [
    "sample = df.sample(n=5)\n",
    "sample.plot(x = 'length', y = 'num_digits', kind = 'bar')"
   ]
  },
  {
   "cell_type": "code",
   "execution_count": 26,
   "id": "f0275dd2",
   "metadata": {},
   "outputs": [
    {
     "data": {
      "text/html": [
       "<div>\n",
       "<style scoped>\n",
       "    .dataframe tbody tr th:only-of-type {\n",
       "        vertical-align: middle;\n",
       "    }\n",
       "\n",
       "    .dataframe tbody tr th {\n",
       "        vertical-align: top;\n",
       "    }\n",
       "\n",
       "    .dataframe thead th {\n",
       "        text-align: right;\n",
       "    }\n",
       "</style>\n",
       "<table border=\"1\" class=\"dataframe\">\n",
       "  <thead>\n",
       "    <tr style=\"text-align: right;\">\n",
       "      <th></th>\n",
       "      <th>password</th>\n",
       "      <th>length</th>\n",
       "      <th>num_chars</th>\n",
       "      <th>num_digits</th>\n",
       "      <th>num_upper</th>\n",
       "      <th>num_lower</th>\n",
       "      <th>num_special</th>\n",
       "      <th>num_vowels</th>\n",
       "      <th>num_syllables</th>\n",
       "    </tr>\n",
       "  </thead>\n",
       "  <tbody>\n",
       "    <tr>\n",
       "      <th>300</th>\n",
       "      <td>abcd1234</td>\n",
       "      <td>8</td>\n",
       "      <td>4</td>\n",
       "      <td>4</td>\n",
       "      <td>0</td>\n",
       "      <td>4</td>\n",
       "      <td>0</td>\n",
       "      <td>1</td>\n",
       "      <td>1</td>\n",
       "    </tr>\n",
       "  </tbody>\n",
       "</table>\n",
       "</div>"
      ],
      "text/plain": [
       "     password  length  num_chars  num_digits  num_upper  num_lower  \\\n",
       "300  abcd1234       8          4           4          0          4   \n",
       "\n",
       "     num_special  num_vowels  num_syllables  \n",
       "300            0           1              1  "
      ]
     },
     "execution_count": 26,
     "metadata": {},
     "output_type": "execute_result"
    }
   ],
   "source": [
    "df.loc[df.password == 'abcd1234']"
   ]
  },
  {
   "cell_type": "code",
   "execution_count": 27,
   "id": "26039019",
   "metadata": {},
   "outputs": [
    {
     "data": {
      "text/html": [
       "<div>\n",
       "<style scoped>\n",
       "    .dataframe tbody tr th:only-of-type {\n",
       "        vertical-align: middle;\n",
       "    }\n",
       "\n",
       "    .dataframe tbody tr th {\n",
       "        vertical-align: top;\n",
       "    }\n",
       "\n",
       "    .dataframe thead th {\n",
       "        text-align: right;\n",
       "    }\n",
       "</style>\n",
       "<table border=\"1\" class=\"dataframe\">\n",
       "  <thead>\n",
       "    <tr style=\"text-align: right;\">\n",
       "      <th></th>\n",
       "      <th>password</th>\n",
       "      <th>length</th>\n",
       "      <th>num_chars</th>\n",
       "      <th>num_digits</th>\n",
       "      <th>num_upper</th>\n",
       "      <th>num_lower</th>\n",
       "      <th>num_special</th>\n",
       "      <th>num_vowels</th>\n",
       "      <th>num_syllables</th>\n",
       "    </tr>\n",
       "  </thead>\n",
       "  <tbody>\n",
       "    <tr>\n",
       "      <th>284</th>\n",
       "      <td>qwaszx</td>\n",
       "      <td>6</td>\n",
       "      <td>6</td>\n",
       "      <td>0</td>\n",
       "      <td>0</td>\n",
       "      <td>6</td>\n",
       "      <td>0</td>\n",
       "      <td>1</td>\n",
       "      <td>1</td>\n",
       "    </tr>\n",
       "  </tbody>\n",
       "</table>\n",
       "</div>"
      ],
      "text/plain": [
       "    password  length  num_chars  num_digits  num_upper  num_lower  \\\n",
       "284   qwaszx       6          6           0          0          6   \n",
       "\n",
       "     num_special  num_vowels  num_syllables  \n",
       "284            0           1              1  "
      ]
     },
     "execution_count": 27,
     "metadata": {},
     "output_type": "execute_result"
    }
   ],
   "source": [
    "df.loc[df.password == 'qwaszx']"
   ]
  },
  {
   "cell_type": "code",
   "execution_count": 28,
   "id": "e6f59c3f",
   "metadata": {},
   "outputs": [
    {
     "data": {
      "text/html": [
       "<div>\n",
       "<style scoped>\n",
       "    .dataframe tbody tr th:only-of-type {\n",
       "        vertical-align: middle;\n",
       "    }\n",
       "\n",
       "    .dataframe tbody tr th {\n",
       "        vertical-align: top;\n",
       "    }\n",
       "\n",
       "    .dataframe thead th {\n",
       "        text-align: right;\n",
       "    }\n",
       "</style>\n",
       "<table border=\"1\" class=\"dataframe\">\n",
       "  <thead>\n",
       "    <tr style=\"text-align: right;\">\n",
       "      <th></th>\n",
       "      <th>password</th>\n",
       "      <th>length</th>\n",
       "      <th>num_chars</th>\n",
       "      <th>num_digits</th>\n",
       "      <th>num_upper</th>\n",
       "      <th>num_lower</th>\n",
       "      <th>num_special</th>\n",
       "      <th>num_vowels</th>\n",
       "      <th>num_syllables</th>\n",
       "    </tr>\n",
       "  </thead>\n",
       "  <tbody>\n",
       "    <tr>\n",
       "      <th>94</th>\n",
       "      <td>987654321</td>\n",
       "      <td>9</td>\n",
       "      <td>0</td>\n",
       "      <td>9</td>\n",
       "      <td>0</td>\n",
       "      <td>0</td>\n",
       "      <td>0</td>\n",
       "      <td>0</td>\n",
       "      <td>1</td>\n",
       "    </tr>\n",
       "  </tbody>\n",
       "</table>\n",
       "</div>"
      ],
      "text/plain": [
       "     password  length  num_chars  num_digits  num_upper  num_lower  \\\n",
       "94  987654321       9          0           9          0          0   \n",
       "\n",
       "    num_special  num_vowels  num_syllables  \n",
       "94            0           0              1  "
      ]
     },
     "execution_count": 28,
     "metadata": {},
     "output_type": "execute_result"
    }
   ],
   "source": [
    "df.loc[df.password == '987654321']"
   ]
  },
  {
   "cell_type": "code",
   "execution_count": 29,
   "id": "a0659585",
   "metadata": {},
   "outputs": [
    {
     "data": {
      "text/plain": [
       "12"
      ]
     },
     "execution_count": 29,
     "metadata": {},
     "output_type": "execute_result"
    }
   ],
   "source": [
    "len(df.loc[df.num_special > 0])"
   ]
  },
  {
   "cell_type": "code",
   "execution_count": null,
   "id": "3fc3ee75",
   "metadata": {},
   "outputs": [],
   "source": []
  }
 ],
 "metadata": {
  "kernelspec": {
   "display_name": "Python 3 (ipykernel)",
   "language": "python",
   "name": "python3"
  },
  "language_info": {
   "codemirror_mode": {
    "name": "ipython",
    "version": 3
   },
   "file_extension": ".py",
   "mimetype": "text/x-python",
   "name": "python",
   "nbconvert_exporter": "python",
   "pygments_lexer": "ipython3",
   "version": "3.9.7"
  }
 },
 "nbformat": 4,
 "nbformat_minor": 5
}
